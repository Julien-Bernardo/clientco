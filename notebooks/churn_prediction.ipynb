{
 "cells": [
  {
   "cell_type": "code",
   "execution_count": 1,
   "metadata": {},
   "outputs": [],
   "source": [
    "import pandas as pd\n",
    "from datetime import datetime\n",
    "import matplotlib.pyplot as plt\n",
    "import numpy as np\n",
    "from sklearn.cluster import KMeans\n",
    "from scipy.stats import zscore\n",
    "from pycaret.classification import *\n",
    "import typing\n",
    "\n",
    "import sys\n",
    "sys.path.insert(1, '..')\n",
    "from src.preprocessing.preprocess import main\n",
    "\n",
    "%matplotlib inline "
   ]
  },
  {
   "cell_type": "code",
   "execution_count": 2,
   "metadata": {},
   "outputs": [],
   "source": [
    "FILE_PATH = '../data/transactions_dataset.csv'\n",
    "df_raw = pd.read_csv(FILE_PATH, sep=';')\n",
    "sample_clients = df_raw.groupby(['client_id']).mean().sample(100).index.to_list()\n",
    "df_extract = df_raw[df_raw['client_id'].isin(sample_clients)]"
   ]
  },
  {
   "cell_type": "code",
   "execution_count": 4,
   "metadata": {},
   "outputs": [],
   "source": [
    "split_date = '2019-06-20'\n",
    "df_churn = main(df_extract)"
   ]
  },
  {
   "cell_type": "code",
   "execution_count": 4,
   "metadata": {},
   "outputs": [
    {
     "data": {
      "text/html": "<style  type=\"text/css\" >\n#T_3fef0_row5_col1,#T_3fef0_row44_col1{\n            background-color:  lightgreen;\n        }</style><table id=\"T_3fef0_\" ><thead>    <tr>        <th class=\"blank level0\" ></th>        <th class=\"col_heading level0 col0\" >Description</th>        <th class=\"col_heading level0 col1\" >Value</th>    </tr></thead><tbody>\n                <tr>\n                        <th id=\"T_3fef0_level0_row0\" class=\"row_heading level0 row0\" >0</th>\n                        <td id=\"T_3fef0_row0_col0\" class=\"data row0 col0\" >session_id</td>\n                        <td id=\"T_3fef0_row0_col1\" class=\"data row0 col1\" >754</td>\n            </tr>\n            <tr>\n                        <th id=\"T_3fef0_level0_row1\" class=\"row_heading level0 row1\" >1</th>\n                        <td id=\"T_3fef0_row1_col0\" class=\"data row1 col0\" >Target</td>\n                        <td id=\"T_3fef0_row1_col1\" class=\"data row1 col1\" >churn</td>\n            </tr>\n            <tr>\n                        <th id=\"T_3fef0_level0_row2\" class=\"row_heading level0 row2\" >2</th>\n                        <td id=\"T_3fef0_row2_col0\" class=\"data row2 col0\" >Target Type</td>\n                        <td id=\"T_3fef0_row2_col1\" class=\"data row2 col1\" >Binary</td>\n            </tr>\n            <tr>\n                        <th id=\"T_3fef0_level0_row3\" class=\"row_heading level0 row3\" >3</th>\n                        <td id=\"T_3fef0_row3_col0\" class=\"data row3 col0\" >Label Encoded</td>\n                        <td id=\"T_3fef0_row3_col1\" class=\"data row3 col1\" >None</td>\n            </tr>\n            <tr>\n                        <th id=\"T_3fef0_level0_row4\" class=\"row_heading level0 row4\" >4</th>\n                        <td id=\"T_3fef0_row4_col0\" class=\"data row4 col0\" >Original Data</td>\n                        <td id=\"T_3fef0_row4_col1\" class=\"data row4 col1\" >(1950, 11)</td>\n            </tr>\n            <tr>\n                        <th id=\"T_3fef0_level0_row5\" class=\"row_heading level0 row5\" >5</th>\n                        <td id=\"T_3fef0_row5_col0\" class=\"data row5 col0\" >Missing Values</td>\n                        <td id=\"T_3fef0_row5_col1\" class=\"data row5 col1\" >True</td>\n            </tr>\n            <tr>\n                        <th id=\"T_3fef0_level0_row6\" class=\"row_heading level0 row6\" >6</th>\n                        <td id=\"T_3fef0_row6_col0\" class=\"data row6 col0\" >Numeric Features</td>\n                        <td id=\"T_3fef0_row6_col1\" class=\"data row6 col1\" >8</td>\n            </tr>\n            <tr>\n                        <th id=\"T_3fef0_level0_row7\" class=\"row_heading level0 row7\" >7</th>\n                        <td id=\"T_3fef0_row7_col0\" class=\"data row7 col0\" >Categorical Features</td>\n                        <td id=\"T_3fef0_row7_col1\" class=\"data row7 col1\" >0</td>\n            </tr>\n            <tr>\n                        <th id=\"T_3fef0_level0_row8\" class=\"row_heading level0 row8\" >8</th>\n                        <td id=\"T_3fef0_row8_col0\" class=\"data row8 col0\" >Ordinal Features</td>\n                        <td id=\"T_3fef0_row8_col1\" class=\"data row8 col1\" >False</td>\n            </tr>\n            <tr>\n                        <th id=\"T_3fef0_level0_row9\" class=\"row_heading level0 row9\" >9</th>\n                        <td id=\"T_3fef0_row9_col0\" class=\"data row9 col0\" >High Cardinality Features</td>\n                        <td id=\"T_3fef0_row9_col1\" class=\"data row9 col1\" >False</td>\n            </tr>\n            <tr>\n                        <th id=\"T_3fef0_level0_row10\" class=\"row_heading level0 row10\" >10</th>\n                        <td id=\"T_3fef0_row10_col0\" class=\"data row10 col0\" >High Cardinality Method</td>\n                        <td id=\"T_3fef0_row10_col1\" class=\"data row10 col1\" >None</td>\n            </tr>\n            <tr>\n                        <th id=\"T_3fef0_level0_row11\" class=\"row_heading level0 row11\" >11</th>\n                        <td id=\"T_3fef0_row11_col0\" class=\"data row11 col0\" >Transformed Train Set</td>\n                        <td id=\"T_3fef0_row11_col1\" class=\"data row11 col1\" >(1364, 28)</td>\n            </tr>\n            <tr>\n                        <th id=\"T_3fef0_level0_row12\" class=\"row_heading level0 row12\" >12</th>\n                        <td id=\"T_3fef0_row12_col0\" class=\"data row12 col0\" >Transformed Test Set</td>\n                        <td id=\"T_3fef0_row12_col1\" class=\"data row12 col1\" >(586, 28)</td>\n            </tr>\n            <tr>\n                        <th id=\"T_3fef0_level0_row13\" class=\"row_heading level0 row13\" >13</th>\n                        <td id=\"T_3fef0_row13_col0\" class=\"data row13 col0\" >Shuffle Train-Test</td>\n                        <td id=\"T_3fef0_row13_col1\" class=\"data row13 col1\" >True</td>\n            </tr>\n            <tr>\n                        <th id=\"T_3fef0_level0_row14\" class=\"row_heading level0 row14\" >14</th>\n                        <td id=\"T_3fef0_row14_col0\" class=\"data row14 col0\" >Stratify Train-Test</td>\n                        <td id=\"T_3fef0_row14_col1\" class=\"data row14 col1\" >False</td>\n            </tr>\n            <tr>\n                        <th id=\"T_3fef0_level0_row15\" class=\"row_heading level0 row15\" >15</th>\n                        <td id=\"T_3fef0_row15_col0\" class=\"data row15 col0\" >Fold Generator</td>\n                        <td id=\"T_3fef0_row15_col1\" class=\"data row15 col1\" >StratifiedKFold</td>\n            </tr>\n            <tr>\n                        <th id=\"T_3fef0_level0_row16\" class=\"row_heading level0 row16\" >16</th>\n                        <td id=\"T_3fef0_row16_col0\" class=\"data row16 col0\" >Fold Number</td>\n                        <td id=\"T_3fef0_row16_col1\" class=\"data row16 col1\" >10</td>\n            </tr>\n            <tr>\n                        <th id=\"T_3fef0_level0_row17\" class=\"row_heading level0 row17\" >17</th>\n                        <td id=\"T_3fef0_row17_col0\" class=\"data row17 col0\" >CPU Jobs</td>\n                        <td id=\"T_3fef0_row17_col1\" class=\"data row17 col1\" >-1</td>\n            </tr>\n            <tr>\n                        <th id=\"T_3fef0_level0_row18\" class=\"row_heading level0 row18\" >18</th>\n                        <td id=\"T_3fef0_row18_col0\" class=\"data row18 col0\" >Use GPU</td>\n                        <td id=\"T_3fef0_row18_col1\" class=\"data row18 col1\" >False</td>\n            </tr>\n            <tr>\n                        <th id=\"T_3fef0_level0_row19\" class=\"row_heading level0 row19\" >19</th>\n                        <td id=\"T_3fef0_row19_col0\" class=\"data row19 col0\" >Log Experiment</td>\n                        <td id=\"T_3fef0_row19_col1\" class=\"data row19 col1\" >False</td>\n            </tr>\n            <tr>\n                        <th id=\"T_3fef0_level0_row20\" class=\"row_heading level0 row20\" >20</th>\n                        <td id=\"T_3fef0_row20_col0\" class=\"data row20 col0\" >Experiment Name</td>\n                        <td id=\"T_3fef0_row20_col1\" class=\"data row20 col1\" >clf-default-name</td>\n            </tr>\n            <tr>\n                        <th id=\"T_3fef0_level0_row21\" class=\"row_heading level0 row21\" >21</th>\n                        <td id=\"T_3fef0_row21_col0\" class=\"data row21 col0\" >USI</td>\n                        <td id=\"T_3fef0_row21_col1\" class=\"data row21 col1\" >1c93</td>\n            </tr>\n            <tr>\n                        <th id=\"T_3fef0_level0_row22\" class=\"row_heading level0 row22\" >22</th>\n                        <td id=\"T_3fef0_row22_col0\" class=\"data row22 col0\" >Imputation Type</td>\n                        <td id=\"T_3fef0_row22_col1\" class=\"data row22 col1\" >simple</td>\n            </tr>\n            <tr>\n                        <th id=\"T_3fef0_level0_row23\" class=\"row_heading level0 row23\" >23</th>\n                        <td id=\"T_3fef0_row23_col0\" class=\"data row23 col0\" >Iterative Imputation Iteration</td>\n                        <td id=\"T_3fef0_row23_col1\" class=\"data row23 col1\" >None</td>\n            </tr>\n            <tr>\n                        <th id=\"T_3fef0_level0_row24\" class=\"row_heading level0 row24\" >24</th>\n                        <td id=\"T_3fef0_row24_col0\" class=\"data row24 col0\" >Numeric Imputer</td>\n                        <td id=\"T_3fef0_row24_col1\" class=\"data row24 col1\" >mean</td>\n            </tr>\n            <tr>\n                        <th id=\"T_3fef0_level0_row25\" class=\"row_heading level0 row25\" >25</th>\n                        <td id=\"T_3fef0_row25_col0\" class=\"data row25 col0\" >Iterative Imputation Numeric Model</td>\n                        <td id=\"T_3fef0_row25_col1\" class=\"data row25 col1\" >None</td>\n            </tr>\n            <tr>\n                        <th id=\"T_3fef0_level0_row26\" class=\"row_heading level0 row26\" >26</th>\n                        <td id=\"T_3fef0_row26_col0\" class=\"data row26 col0\" >Categorical Imputer</td>\n                        <td id=\"T_3fef0_row26_col1\" class=\"data row26 col1\" >constant</td>\n            </tr>\n            <tr>\n                        <th id=\"T_3fef0_level0_row27\" class=\"row_heading level0 row27\" >27</th>\n                        <td id=\"T_3fef0_row27_col0\" class=\"data row27 col0\" >Iterative Imputation Categorical Model</td>\n                        <td id=\"T_3fef0_row27_col1\" class=\"data row27 col1\" >None</td>\n            </tr>\n            <tr>\n                        <th id=\"T_3fef0_level0_row28\" class=\"row_heading level0 row28\" >28</th>\n                        <td id=\"T_3fef0_row28_col0\" class=\"data row28 col0\" >Unknown Categoricals Handling</td>\n                        <td id=\"T_3fef0_row28_col1\" class=\"data row28 col1\" >least_frequent</td>\n            </tr>\n            <tr>\n                        <th id=\"T_3fef0_level0_row29\" class=\"row_heading level0 row29\" >29</th>\n                        <td id=\"T_3fef0_row29_col0\" class=\"data row29 col0\" >Normalize</td>\n                        <td id=\"T_3fef0_row29_col1\" class=\"data row29 col1\" >False</td>\n            </tr>\n            <tr>\n                        <th id=\"T_3fef0_level0_row30\" class=\"row_heading level0 row30\" >30</th>\n                        <td id=\"T_3fef0_row30_col0\" class=\"data row30 col0\" >Normalize Method</td>\n                        <td id=\"T_3fef0_row30_col1\" class=\"data row30 col1\" >None</td>\n            </tr>\n            <tr>\n                        <th id=\"T_3fef0_level0_row31\" class=\"row_heading level0 row31\" >31</th>\n                        <td id=\"T_3fef0_row31_col0\" class=\"data row31 col0\" >Transformation</td>\n                        <td id=\"T_3fef0_row31_col1\" class=\"data row31 col1\" >False</td>\n            </tr>\n            <tr>\n                        <th id=\"T_3fef0_level0_row32\" class=\"row_heading level0 row32\" >32</th>\n                        <td id=\"T_3fef0_row32_col0\" class=\"data row32 col0\" >Transformation Method</td>\n                        <td id=\"T_3fef0_row32_col1\" class=\"data row32 col1\" >None</td>\n            </tr>\n            <tr>\n                        <th id=\"T_3fef0_level0_row33\" class=\"row_heading level0 row33\" >33</th>\n                        <td id=\"T_3fef0_row33_col0\" class=\"data row33 col0\" >PCA</td>\n                        <td id=\"T_3fef0_row33_col1\" class=\"data row33 col1\" >False</td>\n            </tr>\n            <tr>\n                        <th id=\"T_3fef0_level0_row34\" class=\"row_heading level0 row34\" >34</th>\n                        <td id=\"T_3fef0_row34_col0\" class=\"data row34 col0\" >PCA Method</td>\n                        <td id=\"T_3fef0_row34_col1\" class=\"data row34 col1\" >None</td>\n            </tr>\n            <tr>\n                        <th id=\"T_3fef0_level0_row35\" class=\"row_heading level0 row35\" >35</th>\n                        <td id=\"T_3fef0_row35_col0\" class=\"data row35 col0\" >PCA Components</td>\n                        <td id=\"T_3fef0_row35_col1\" class=\"data row35 col1\" >None</td>\n            </tr>\n            <tr>\n                        <th id=\"T_3fef0_level0_row36\" class=\"row_heading level0 row36\" >36</th>\n                        <td id=\"T_3fef0_row36_col0\" class=\"data row36 col0\" >Ignore Low Variance</td>\n                        <td id=\"T_3fef0_row36_col1\" class=\"data row36 col1\" >False</td>\n            </tr>\n            <tr>\n                        <th id=\"T_3fef0_level0_row37\" class=\"row_heading level0 row37\" >37</th>\n                        <td id=\"T_3fef0_row37_col0\" class=\"data row37 col0\" >Combine Rare Levels</td>\n                        <td id=\"T_3fef0_row37_col1\" class=\"data row37 col1\" >False</td>\n            </tr>\n            <tr>\n                        <th id=\"T_3fef0_level0_row38\" class=\"row_heading level0 row38\" >38</th>\n                        <td id=\"T_3fef0_row38_col0\" class=\"data row38 col0\" >Rare Level Threshold</td>\n                        <td id=\"T_3fef0_row38_col1\" class=\"data row38 col1\" >None</td>\n            </tr>\n            <tr>\n                        <th id=\"T_3fef0_level0_row39\" class=\"row_heading level0 row39\" >39</th>\n                        <td id=\"T_3fef0_row39_col0\" class=\"data row39 col0\" >Numeric Binning</td>\n                        <td id=\"T_3fef0_row39_col1\" class=\"data row39 col1\" >False</td>\n            </tr>\n            <tr>\n                        <th id=\"T_3fef0_level0_row40\" class=\"row_heading level0 row40\" >40</th>\n                        <td id=\"T_3fef0_row40_col0\" class=\"data row40 col0\" >Remove Outliers</td>\n                        <td id=\"T_3fef0_row40_col1\" class=\"data row40 col1\" >False</td>\n            </tr>\n            <tr>\n                        <th id=\"T_3fef0_level0_row41\" class=\"row_heading level0 row41\" >41</th>\n                        <td id=\"T_3fef0_row41_col0\" class=\"data row41 col0\" >Outliers Threshold</td>\n                        <td id=\"T_3fef0_row41_col1\" class=\"data row41 col1\" >None</td>\n            </tr>\n            <tr>\n                        <th id=\"T_3fef0_level0_row42\" class=\"row_heading level0 row42\" >42</th>\n                        <td id=\"T_3fef0_row42_col0\" class=\"data row42 col0\" >Remove Multicollinearity</td>\n                        <td id=\"T_3fef0_row42_col1\" class=\"data row42 col1\" >False</td>\n            </tr>\n            <tr>\n                        <th id=\"T_3fef0_level0_row43\" class=\"row_heading level0 row43\" >43</th>\n                        <td id=\"T_3fef0_row43_col0\" class=\"data row43 col0\" >Multicollinearity Threshold</td>\n                        <td id=\"T_3fef0_row43_col1\" class=\"data row43 col1\" >None</td>\n            </tr>\n            <tr>\n                        <th id=\"T_3fef0_level0_row44\" class=\"row_heading level0 row44\" >44</th>\n                        <td id=\"T_3fef0_row44_col0\" class=\"data row44 col0\" >Remove Perfect Collinearity</td>\n                        <td id=\"T_3fef0_row44_col1\" class=\"data row44 col1\" >True</td>\n            </tr>\n            <tr>\n                        <th id=\"T_3fef0_level0_row45\" class=\"row_heading level0 row45\" >45</th>\n                        <td id=\"T_3fef0_row45_col0\" class=\"data row45 col0\" >Clustering</td>\n                        <td id=\"T_3fef0_row45_col1\" class=\"data row45 col1\" >False</td>\n            </tr>\n            <tr>\n                        <th id=\"T_3fef0_level0_row46\" class=\"row_heading level0 row46\" >46</th>\n                        <td id=\"T_3fef0_row46_col0\" class=\"data row46 col0\" >Clustering Iteration</td>\n                        <td id=\"T_3fef0_row46_col1\" class=\"data row46 col1\" >None</td>\n            </tr>\n            <tr>\n                        <th id=\"T_3fef0_level0_row47\" class=\"row_heading level0 row47\" >47</th>\n                        <td id=\"T_3fef0_row47_col0\" class=\"data row47 col0\" >Polynomial Features</td>\n                        <td id=\"T_3fef0_row47_col1\" class=\"data row47 col1\" >False</td>\n            </tr>\n            <tr>\n                        <th id=\"T_3fef0_level0_row48\" class=\"row_heading level0 row48\" >48</th>\n                        <td id=\"T_3fef0_row48_col0\" class=\"data row48 col0\" >Polynomial Degree</td>\n                        <td id=\"T_3fef0_row48_col1\" class=\"data row48 col1\" >None</td>\n            </tr>\n            <tr>\n                        <th id=\"T_3fef0_level0_row49\" class=\"row_heading level0 row49\" >49</th>\n                        <td id=\"T_3fef0_row49_col0\" class=\"data row49 col0\" >Trignometry Features</td>\n                        <td id=\"T_3fef0_row49_col1\" class=\"data row49 col1\" >False</td>\n            </tr>\n            <tr>\n                        <th id=\"T_3fef0_level0_row50\" class=\"row_heading level0 row50\" >50</th>\n                        <td id=\"T_3fef0_row50_col0\" class=\"data row50 col0\" >Polynomial Threshold</td>\n                        <td id=\"T_3fef0_row50_col1\" class=\"data row50 col1\" >None</td>\n            </tr>\n            <tr>\n                        <th id=\"T_3fef0_level0_row51\" class=\"row_heading level0 row51\" >51</th>\n                        <td id=\"T_3fef0_row51_col0\" class=\"data row51 col0\" >Group Features</td>\n                        <td id=\"T_3fef0_row51_col1\" class=\"data row51 col1\" >False</td>\n            </tr>\n            <tr>\n                        <th id=\"T_3fef0_level0_row52\" class=\"row_heading level0 row52\" >52</th>\n                        <td id=\"T_3fef0_row52_col0\" class=\"data row52 col0\" >Feature Selection</td>\n                        <td id=\"T_3fef0_row52_col1\" class=\"data row52 col1\" >False</td>\n            </tr>\n            <tr>\n                        <th id=\"T_3fef0_level0_row53\" class=\"row_heading level0 row53\" >53</th>\n                        <td id=\"T_3fef0_row53_col0\" class=\"data row53 col0\" >Feature Selection Method</td>\n                        <td id=\"T_3fef0_row53_col1\" class=\"data row53 col1\" >classic</td>\n            </tr>\n            <tr>\n                        <th id=\"T_3fef0_level0_row54\" class=\"row_heading level0 row54\" >54</th>\n                        <td id=\"T_3fef0_row54_col0\" class=\"data row54 col0\" >Features Selection Threshold</td>\n                        <td id=\"T_3fef0_row54_col1\" class=\"data row54 col1\" >None</td>\n            </tr>\n            <tr>\n                        <th id=\"T_3fef0_level0_row55\" class=\"row_heading level0 row55\" >55</th>\n                        <td id=\"T_3fef0_row55_col0\" class=\"data row55 col0\" >Feature Interaction</td>\n                        <td id=\"T_3fef0_row55_col1\" class=\"data row55 col1\" >False</td>\n            </tr>\n            <tr>\n                        <th id=\"T_3fef0_level0_row56\" class=\"row_heading level0 row56\" >56</th>\n                        <td id=\"T_3fef0_row56_col0\" class=\"data row56 col0\" >Feature Ratio</td>\n                        <td id=\"T_3fef0_row56_col1\" class=\"data row56 col1\" >False</td>\n            </tr>\n            <tr>\n                        <th id=\"T_3fef0_level0_row57\" class=\"row_heading level0 row57\" >57</th>\n                        <td id=\"T_3fef0_row57_col0\" class=\"data row57 col0\" >Interaction Threshold</td>\n                        <td id=\"T_3fef0_row57_col1\" class=\"data row57 col1\" >None</td>\n            </tr>\n            <tr>\n                        <th id=\"T_3fef0_level0_row58\" class=\"row_heading level0 row58\" >58</th>\n                        <td id=\"T_3fef0_row58_col0\" class=\"data row58 col0\" >Fix Imbalance</td>\n                        <td id=\"T_3fef0_row58_col1\" class=\"data row58 col1\" >False</td>\n            </tr>\n            <tr>\n                        <th id=\"T_3fef0_level0_row59\" class=\"row_heading level0 row59\" >59</th>\n                        <td id=\"T_3fef0_row59_col0\" class=\"data row59 col0\" >Fix Imbalance Method</td>\n                        <td id=\"T_3fef0_row59_col1\" class=\"data row59 col1\" >SMOTE</td>\n            </tr>\n    </tbody></table>",
      "text/plain": "<pandas.io.formats.style.Styler at 0x7fcbb804f8d0>"
     },
     "metadata": {},
     "output_type": "display_data"
    }
   ],
   "source": [
    "data = df_churn.query(f\"{'date_order'} < @split_date\").reset_index(drop=True)\n",
    "s = setup(data, target = 'churn', ignore_features = ['client_id'])"
   ]
  },
  {
   "cell_type": "code",
   "execution_count": 5,
   "metadata": {},
   "outputs": [
    {
     "data": {
      "text/html": "<style  type=\"text/css\" >\n    #T_78e26_ th {\n          text-align: left;\n    }#T_78e26_row0_col0,#T_78e26_row1_col0,#T_78e26_row1_col1,#T_78e26_row1_col2,#T_78e26_row1_col3,#T_78e26_row1_col4,#T_78e26_row1_col5,#T_78e26_row1_col6,#T_78e26_row1_col7,#T_78e26_row2_col0,#T_78e26_row2_col1,#T_78e26_row2_col2,#T_78e26_row2_col3,#T_78e26_row2_col4,#T_78e26_row2_col5,#T_78e26_row2_col6,#T_78e26_row2_col7,#T_78e26_row3_col0,#T_78e26_row3_col1,#T_78e26_row3_col2,#T_78e26_row3_col3,#T_78e26_row3_col4,#T_78e26_row3_col5,#T_78e26_row3_col6,#T_78e26_row3_col7,#T_78e26_row4_col0,#T_78e26_row4_col1,#T_78e26_row4_col2,#T_78e26_row4_col3,#T_78e26_row4_col4,#T_78e26_row4_col5,#T_78e26_row4_col6,#T_78e26_row4_col7,#T_78e26_row5_col0,#T_78e26_row5_col1,#T_78e26_row5_col2,#T_78e26_row5_col3,#T_78e26_row5_col4,#T_78e26_row5_col5,#T_78e26_row5_col6,#T_78e26_row5_col7,#T_78e26_row6_col0,#T_78e26_row6_col1,#T_78e26_row6_col2,#T_78e26_row6_col3,#T_78e26_row6_col4,#T_78e26_row6_col5,#T_78e26_row6_col6,#T_78e26_row6_col7,#T_78e26_row7_col0,#T_78e26_row7_col1,#T_78e26_row7_col2,#T_78e26_row7_col3,#T_78e26_row7_col4,#T_78e26_row7_col5,#T_78e26_row7_col6,#T_78e26_row7_col7,#T_78e26_row8_col0,#T_78e26_row8_col1,#T_78e26_row8_col2,#T_78e26_row8_col3,#T_78e26_row8_col4,#T_78e26_row8_col5,#T_78e26_row8_col6,#T_78e26_row8_col7,#T_78e26_row9_col0,#T_78e26_row9_col1,#T_78e26_row9_col2,#T_78e26_row9_col3,#T_78e26_row9_col4,#T_78e26_row9_col5,#T_78e26_row9_col6,#T_78e26_row9_col7,#T_78e26_row10_col0,#T_78e26_row10_col1,#T_78e26_row10_col2,#T_78e26_row10_col3,#T_78e26_row10_col4,#T_78e26_row10_col5,#T_78e26_row10_col6,#T_78e26_row10_col7,#T_78e26_row11_col0,#T_78e26_row11_col1,#T_78e26_row11_col2,#T_78e26_row11_col3,#T_78e26_row11_col4,#T_78e26_row11_col5,#T_78e26_row11_col6,#T_78e26_row11_col7,#T_78e26_row12_col0,#T_78e26_row12_col1,#T_78e26_row12_col2,#T_78e26_row12_col3,#T_78e26_row12_col4,#T_78e26_row12_col5,#T_78e26_row12_col6,#T_78e26_row12_col7,#T_78e26_row13_col0,#T_78e26_row13_col1,#T_78e26_row13_col2,#T_78e26_row13_col3,#T_78e26_row13_col4,#T_78e26_row13_col5,#T_78e26_row13_col6,#T_78e26_row13_col7{\n            text-align:  left;\n            text-align:  left;\n        }#T_78e26_row0_col1,#T_78e26_row0_col2,#T_78e26_row0_col3,#T_78e26_row0_col4,#T_78e26_row0_col5,#T_78e26_row0_col6,#T_78e26_row0_col7{\n            text-align:  left;\n            text-align:  left;\n            background-color:  yellow;\n        }#T_78e26_row0_col8,#T_78e26_row1_col8,#T_78e26_row2_col8,#T_78e26_row3_col8,#T_78e26_row4_col8,#T_78e26_row6_col8,#T_78e26_row7_col8,#T_78e26_row8_col8,#T_78e26_row9_col8,#T_78e26_row11_col8,#T_78e26_row12_col8,#T_78e26_row13_col8{\n            text-align:  left;\n            text-align:  left;\n            background-color:  lightgrey;\n        }#T_78e26_row5_col8,#T_78e26_row10_col8{\n            text-align:  left;\n            text-align:  left;\n            background-color:  yellow;\n            background-color:  lightgrey;\n        }</style><table id=\"T_78e26_\" ><thead>    <tr>        <th class=\"blank level0\" ></th>        <th class=\"col_heading level0 col0\" >Model</th>        <th class=\"col_heading level0 col1\" >Accuracy</th>        <th class=\"col_heading level0 col2\" >AUC</th>        <th class=\"col_heading level0 col3\" >Recall</th>        <th class=\"col_heading level0 col4\" >Prec.</th>        <th class=\"col_heading level0 col5\" >F1</th>        <th class=\"col_heading level0 col6\" >Kappa</th>        <th class=\"col_heading level0 col7\" >MCC</th>        <th class=\"col_heading level0 col8\" >TT (Sec)</th>    </tr></thead><tbody>\n                <tr>\n                        <th id=\"T_78e26_level0_row0\" class=\"row_heading level0 row0\" >lr</th>\n                        <td id=\"T_78e26_row0_col0\" class=\"data row0 col0\" >Logistic Regression</td>\n                        <td id=\"T_78e26_row0_col1\" class=\"data row0 col1\" >0.9963</td>\n                        <td id=\"T_78e26_row0_col2\" class=\"data row0 col2\" >0.9995</td>\n                        <td id=\"T_78e26_row0_col3\" class=\"data row0 col3\" >0.9200</td>\n                        <td id=\"T_78e26_row0_col4\" class=\"data row0 col4\" >0.9857</td>\n                        <td id=\"T_78e26_row0_col5\" class=\"data row0 col5\" >0.9479</td>\n                        <td id=\"T_78e26_row0_col6\" class=\"data row0 col6\" >0.9460</td>\n                        <td id=\"T_78e26_row0_col7\" class=\"data row0 col7\" >0.9486</td>\n                        <td id=\"T_78e26_row0_col8\" class=\"data row0 col8\" >0.2880</td>\n            </tr>\n            <tr>\n                        <th id=\"T_78e26_level0_row1\" class=\"row_heading level0 row1\" >lightgbm</th>\n                        <td id=\"T_78e26_row1_col0\" class=\"data row1 col0\" >Light Gradient Boosting Machine</td>\n                        <td id=\"T_78e26_row1_col1\" class=\"data row1 col1\" >0.9875</td>\n                        <td id=\"T_78e26_row1_col2\" class=\"data row1 col2\" >0.9957</td>\n                        <td id=\"T_78e26_row1_col3\" class=\"data row1 col3\" >0.8100</td>\n                        <td id=\"T_78e26_row1_col4\" class=\"data row1 col4\" >0.8821</td>\n                        <td id=\"T_78e26_row1_col5\" class=\"data row1 col5\" >0.8254</td>\n                        <td id=\"T_78e26_row1_col6\" class=\"data row1 col6\" >0.8192</td>\n                        <td id=\"T_78e26_row1_col7\" class=\"data row1 col7\" >0.8299</td>\n                        <td id=\"T_78e26_row1_col8\" class=\"data row1 col8\" >0.0120</td>\n            </tr>\n            <tr>\n                        <th id=\"T_78e26_level0_row2\" class=\"row_heading level0 row2\" >gbc</th>\n                        <td id=\"T_78e26_row2_col0\" class=\"data row2 col0\" >Gradient Boosting Classifier</td>\n                        <td id=\"T_78e26_row2_col1\" class=\"data row2 col1\" >0.9853</td>\n                        <td id=\"T_78e26_row2_col2\" class=\"data row2 col2\" >0.9934</td>\n                        <td id=\"T_78e26_row2_col3\" class=\"data row2 col3\" >0.8433</td>\n                        <td id=\"T_78e26_row2_col4\" class=\"data row2 col4\" >0.8205</td>\n                        <td id=\"T_78e26_row2_col5\" class=\"data row2 col5\" >0.8207</td>\n                        <td id=\"T_78e26_row2_col6\" class=\"data row2 col6\" >0.8132</td>\n                        <td id=\"T_78e26_row2_col7\" class=\"data row2 col7\" >0.8191</td>\n                        <td id=\"T_78e26_row2_col8\" class=\"data row2 col8\" >0.0280</td>\n            </tr>\n            <tr>\n                        <th id=\"T_78e26_level0_row3\" class=\"row_heading level0 row3\" >rf</th>\n                        <td id=\"T_78e26_row3_col0\" class=\"data row3 col0\" >Random Forest Classifier</td>\n                        <td id=\"T_78e26_row3_col1\" class=\"data row3 col1\" >0.9633</td>\n                        <td id=\"T_78e26_row3_col2\" class=\"data row3 col2\" >0.9881</td>\n                        <td id=\"T_78e26_row3_col3\" class=\"data row3 col3\" >0.0600</td>\n                        <td id=\"T_78e26_row3_col4\" class=\"data row3 col4\" >0.2500</td>\n                        <td id=\"T_78e26_row3_col5\" class=\"data row3 col5\" >0.0952</td>\n                        <td id=\"T_78e26_row3_col6\" class=\"data row3 col6\" >0.0921</td>\n                        <td id=\"T_78e26_row3_col7\" class=\"data row3 col7\" >0.1182</td>\n                        <td id=\"T_78e26_row3_col8\" class=\"data row3 col8\" >0.1050</td>\n            </tr>\n            <tr>\n                        <th id=\"T_78e26_level0_row4\" class=\"row_heading level0 row4\" >ada</th>\n                        <td id=\"T_78e26_row4_col0\" class=\"data row4 col0\" >Ada Boost Classifier</td>\n                        <td id=\"T_78e26_row4_col1\" class=\"data row4 col1\" >0.9868</td>\n                        <td id=\"T_78e26_row4_col2\" class=\"data row4 col2\" >0.9729</td>\n                        <td id=\"T_78e26_row4_col3\" class=\"data row4 col3\" >0.8100</td>\n                        <td id=\"T_78e26_row4_col4\" class=\"data row4 col4\" >0.8538</td>\n                        <td id=\"T_78e26_row4_col5\" class=\"data row4 col5\" >0.8137</td>\n                        <td id=\"T_78e26_row4_col6\" class=\"data row4 col6\" >0.8072</td>\n                        <td id=\"T_78e26_row4_col7\" class=\"data row4 col7\" >0.8166</td>\n                        <td id=\"T_78e26_row4_col8\" class=\"data row4 col8\" >0.0190</td>\n            </tr>\n            <tr>\n                        <th id=\"T_78e26_level0_row5\" class=\"row_heading level0 row5\" >dt</th>\n                        <td id=\"T_78e26_row5_col0\" class=\"data row5 col0\" >Decision Tree Classifier</td>\n                        <td id=\"T_78e26_row5_col1\" class=\"data row5 col1\" >0.9868</td>\n                        <td id=\"T_78e26_row5_col2\" class=\"data row5 col2\" >0.9116</td>\n                        <td id=\"T_78e26_row5_col3\" class=\"data row5 col3\" >0.8300</td>\n                        <td id=\"T_78e26_row5_col4\" class=\"data row5 col4\" >0.8582</td>\n                        <td id=\"T_78e26_row5_col5\" class=\"data row5 col5\" >0.8262</td>\n                        <td id=\"T_78e26_row5_col6\" class=\"data row5 col6\" >0.8196</td>\n                        <td id=\"T_78e26_row5_col7\" class=\"data row5 col7\" >0.8289</td>\n                        <td id=\"T_78e26_row5_col8\" class=\"data row5 col8\" >0.0050</td>\n            </tr>\n            <tr>\n                        <th id=\"T_78e26_level0_row6\" class=\"row_heading level0 row6\" >et</th>\n                        <td id=\"T_78e26_row6_col0\" class=\"data row6 col0\" >Extra Trees Classifier</td>\n                        <td id=\"T_78e26_row6_col1\" class=\"data row6 col1\" >0.9626</td>\n                        <td id=\"T_78e26_row6_col2\" class=\"data row6 col2\" >0.9072</td>\n                        <td id=\"T_78e26_row6_col3\" class=\"data row6 col3\" >0.0800</td>\n                        <td id=\"T_78e26_row6_col4\" class=\"data row6 col4\" >0.2833</td>\n                        <td id=\"T_78e26_row6_col5\" class=\"data row6 col5\" >0.1202</td>\n                        <td id=\"T_78e26_row6_col6\" class=\"data row6 col6\" >0.1149</td>\n                        <td id=\"T_78e26_row6_col7\" class=\"data row6 col7\" >0.1419</td>\n                        <td id=\"T_78e26_row6_col8\" class=\"data row6 col8\" >0.0970</td>\n            </tr>\n            <tr>\n                        <th id=\"T_78e26_level0_row7\" class=\"row_heading level0 row7\" >lda</th>\n                        <td id=\"T_78e26_row7_col0\" class=\"data row7 col0\" >Linear Discriminant Analysis</td>\n                        <td id=\"T_78e26_row7_col1\" class=\"data row7 col1\" >0.9597</td>\n                        <td id=\"T_78e26_row7_col2\" class=\"data row7 col2\" >0.8622</td>\n                        <td id=\"T_78e26_row7_col3\" class=\"data row7 col3\" >0.2533</td>\n                        <td id=\"T_78e26_row7_col4\" class=\"data row7 col4\" >0.5833</td>\n                        <td id=\"T_78e26_row7_col5\" class=\"data row7 col5\" >0.3276</td>\n                        <td id=\"T_78e26_row7_col6\" class=\"data row7 col6\" >0.3100</td>\n                        <td id=\"T_78e26_row7_col7\" class=\"data row7 col7\" >0.3510</td>\n                        <td id=\"T_78e26_row7_col8\" class=\"data row7 col8\" >0.0080</td>\n            </tr>\n            <tr>\n                        <th id=\"T_78e26_level0_row8\" class=\"row_heading level0 row8\" >nb</th>\n                        <td id=\"T_78e26_row8_col0\" class=\"data row8 col0\" >Naive Bayes</td>\n                        <td id=\"T_78e26_row8_col1\" class=\"data row8 col1\" >0.8430</td>\n                        <td id=\"T_78e26_row8_col2\" class=\"data row8 col2\" >0.6487</td>\n                        <td id=\"T_78e26_row8_col3\" class=\"data row8 col3\" >0.4433</td>\n                        <td id=\"T_78e26_row8_col4\" class=\"data row8 col4\" >0.1194</td>\n                        <td id=\"T_78e26_row8_col5\" class=\"data row8 col5\" >0.1857</td>\n                        <td id=\"T_78e26_row8_col6\" class=\"data row8 col6\" >0.1333</td>\n                        <td id=\"T_78e26_row8_col7\" class=\"data row8 col7\" >0.1676</td>\n                        <td id=\"T_78e26_row8_col8\" class=\"data row8 col8\" >0.1260</td>\n            </tr>\n            <tr>\n                        <th id=\"T_78e26_level0_row9\" class=\"row_heading level0 row9\" >knn</th>\n                        <td id=\"T_78e26_row9_col0\" class=\"data row9 col0\" >K Neighbors Classifier</td>\n                        <td id=\"T_78e26_row9_col1\" class=\"data row9 col1\" >0.9619</td>\n                        <td id=\"T_78e26_row9_col2\" class=\"data row9 col2\" >0.6105</td>\n                        <td id=\"T_78e26_row9_col3\" class=\"data row9 col3\" >0.0000</td>\n                        <td id=\"T_78e26_row9_col4\" class=\"data row9 col4\" >0.0000</td>\n                        <td id=\"T_78e26_row9_col5\" class=\"data row9 col5\" >0.0000</td>\n                        <td id=\"T_78e26_row9_col6\" class=\"data row9 col6\" >0.0000</td>\n                        <td id=\"T_78e26_row9_col7\" class=\"data row9 col7\" >0.0000</td>\n                        <td id=\"T_78e26_row9_col8\" class=\"data row9 col8\" >0.1540</td>\n            </tr>\n            <tr>\n                        <th id=\"T_78e26_level0_row10\" class=\"row_heading level0 row10\" >dummy</th>\n                        <td id=\"T_78e26_row10_col0\" class=\"data row10 col0\" >Dummy Classifier</td>\n                        <td id=\"T_78e26_row10_col1\" class=\"data row10 col1\" >0.9619</td>\n                        <td id=\"T_78e26_row10_col2\" class=\"data row10 col2\" >0.5000</td>\n                        <td id=\"T_78e26_row10_col3\" class=\"data row10 col3\" >0.0000</td>\n                        <td id=\"T_78e26_row10_col4\" class=\"data row10 col4\" >0.0000</td>\n                        <td id=\"T_78e26_row10_col5\" class=\"data row10 col5\" >0.0000</td>\n                        <td id=\"T_78e26_row10_col6\" class=\"data row10 col6\" >0.0000</td>\n                        <td id=\"T_78e26_row10_col7\" class=\"data row10 col7\" >0.0000</td>\n                        <td id=\"T_78e26_row10_col8\" class=\"data row10 col8\" >0.0050</td>\n            </tr>\n            <tr>\n                        <th id=\"T_78e26_level0_row11\" class=\"row_heading level0 row11\" >qda</th>\n                        <td id=\"T_78e26_row11_col0\" class=\"data row11 col0\" >Quadratic Discriminant Analysis</td>\n                        <td id=\"T_78e26_row11_col1\" class=\"data row11 col1\" >0.4511</td>\n                        <td id=\"T_78e26_row11_col2\" class=\"data row11 col2\" >0.4730</td>\n                        <td id=\"T_78e26_row11_col3\" class=\"data row11 col3\" >0.4967</td>\n                        <td id=\"T_78e26_row11_col4\" class=\"data row11 col4\" >0.0323</td>\n                        <td id=\"T_78e26_row11_col5\" class=\"data row11 col5\" >0.0601</td>\n                        <td id=\"T_78e26_row11_col6\" class=\"data row11 col6\" >-0.0108</td>\n                        <td id=\"T_78e26_row11_col7\" class=\"data row11 col7\" >-0.0225</td>\n                        <td id=\"T_78e26_row11_col8\" class=\"data row11 col8\" >0.0060</td>\n            </tr>\n            <tr>\n                        <th id=\"T_78e26_level0_row12\" class=\"row_heading level0 row12\" >svm</th>\n                        <td id=\"T_78e26_row12_col0\" class=\"data row12 col0\" >SVM - Linear Kernel</td>\n                        <td id=\"T_78e26_row12_col1\" class=\"data row12 col1\" >0.9597</td>\n                        <td id=\"T_78e26_row12_col2\" class=\"data row12 col2\" >0.0000</td>\n                        <td id=\"T_78e26_row12_col3\" class=\"data row12 col3\" >0.2333</td>\n                        <td id=\"T_78e26_row12_col4\" class=\"data row12 col4\" >0.4083</td>\n                        <td id=\"T_78e26_row12_col5\" class=\"data row12 col5\" >0.2819</td>\n                        <td id=\"T_78e26_row12_col6\" class=\"data row12 col6\" >0.2663</td>\n                        <td id=\"T_78e26_row12_col7\" class=\"data row12 col7\" >0.2832</td>\n                        <td id=\"T_78e26_row12_col8\" class=\"data row12 col8\" >0.0060</td>\n            </tr>\n            <tr>\n                        <th id=\"T_78e26_level0_row13\" class=\"row_heading level0 row13\" >ridge</th>\n                        <td id=\"T_78e26_row13_col0\" class=\"data row13 col0\" >Ridge Classifier</td>\n                        <td id=\"T_78e26_row13_col1\" class=\"data row13 col1\" >0.9612</td>\n                        <td id=\"T_78e26_row13_col2\" class=\"data row13 col2\" >0.0000</td>\n                        <td id=\"T_78e26_row13_col3\" class=\"data row13 col3\" >0.0567</td>\n                        <td id=\"T_78e26_row13_col4\" class=\"data row13 col4\" >0.2333</td>\n                        <td id=\"T_78e26_row13_col5\" class=\"data row13 col5\" >0.0889</td>\n                        <td id=\"T_78e26_row13_col6\" class=\"data row13 col6\" >0.0828</td>\n                        <td id=\"T_78e26_row13_col7\" class=\"data row13 col7\" >0.1069</td>\n                        <td id=\"T_78e26_row13_col8\" class=\"data row13 col8\" >0.1130</td>\n            </tr>\n    </tbody></table>",
      "text/plain": "<pandas.io.formats.style.Styler at 0x7fcbb8038e50>"
     },
     "metadata": {},
     "output_type": "display_data"
    }
   ],
   "source": [
    "best_model = compare_models(sort='AUC')"
   ]
  },
  {
   "cell_type": "code",
   "execution_count": 6,
   "metadata": {},
   "outputs": [
    {
     "data": {
      "text/html": "<style  type=\"text/css\" >\n#T_97c28_row10_col0,#T_97c28_row10_col1,#T_97c28_row10_col2,#T_97c28_row10_col3,#T_97c28_row10_col4,#T_97c28_row10_col5,#T_97c28_row10_col6{\n            background:  yellow;\n        }</style><table id=\"T_97c28_\" ><thead>    <tr>        <th class=\"blank level0\" ></th>        <th class=\"col_heading level0 col0\" >Accuracy</th>        <th class=\"col_heading level0 col1\" >AUC</th>        <th class=\"col_heading level0 col2\" >Recall</th>        <th class=\"col_heading level0 col3\" >Prec.</th>        <th class=\"col_heading level0 col4\" >F1</th>        <th class=\"col_heading level0 col5\" >Kappa</th>        <th class=\"col_heading level0 col6\" >MCC</th>    </tr></thead><tbody>\n                <tr>\n                        <th id=\"T_97c28_level0_row0\" class=\"row_heading level0 row0\" >0</th>\n                        <td id=\"T_97c28_row0_col0\" class=\"data row0 col0\" >0.9927</td>\n                        <td id=\"T_97c28_row0_col1\" class=\"data row0 col1\" >1.0000</td>\n                        <td id=\"T_97c28_row0_col2\" class=\"data row0 col2\" >0.8000</td>\n                        <td id=\"T_97c28_row0_col3\" class=\"data row0 col3\" >1.0000</td>\n                        <td id=\"T_97c28_row0_col4\" class=\"data row0 col4\" >0.8889</td>\n                        <td id=\"T_97c28_row0_col5\" class=\"data row0 col5\" >0.8852</td>\n                        <td id=\"T_97c28_row0_col6\" class=\"data row0 col6\" >0.8911</td>\n            </tr>\n            <tr>\n                        <th id=\"T_97c28_level0_row1\" class=\"row_heading level0 row1\" >1</th>\n                        <td id=\"T_97c28_row1_col0\" class=\"data row1 col0\" >1.0000</td>\n                        <td id=\"T_97c28_row1_col1\" class=\"data row1 col1\" >1.0000</td>\n                        <td id=\"T_97c28_row1_col2\" class=\"data row1 col2\" >1.0000</td>\n                        <td id=\"T_97c28_row1_col3\" class=\"data row1 col3\" >1.0000</td>\n                        <td id=\"T_97c28_row1_col4\" class=\"data row1 col4\" >1.0000</td>\n                        <td id=\"T_97c28_row1_col5\" class=\"data row1 col5\" >1.0000</td>\n                        <td id=\"T_97c28_row1_col6\" class=\"data row1 col6\" >1.0000</td>\n            </tr>\n            <tr>\n                        <th id=\"T_97c28_level0_row2\" class=\"row_heading level0 row2\" >2</th>\n                        <td id=\"T_97c28_row2_col0\" class=\"data row2 col0\" >1.0000</td>\n                        <td id=\"T_97c28_row2_col1\" class=\"data row2 col1\" >1.0000</td>\n                        <td id=\"T_97c28_row2_col2\" class=\"data row2 col2\" >1.0000</td>\n                        <td id=\"T_97c28_row2_col3\" class=\"data row2 col3\" >1.0000</td>\n                        <td id=\"T_97c28_row2_col4\" class=\"data row2 col4\" >1.0000</td>\n                        <td id=\"T_97c28_row2_col5\" class=\"data row2 col5\" >1.0000</td>\n                        <td id=\"T_97c28_row2_col6\" class=\"data row2 col6\" >1.0000</td>\n            </tr>\n            <tr>\n                        <th id=\"T_97c28_level0_row3\" class=\"row_heading level0 row3\" >3</th>\n                        <td id=\"T_97c28_row3_col0\" class=\"data row3 col0\" >0.9927</td>\n                        <td id=\"T_97c28_row3_col1\" class=\"data row3 col1\" >0.9949</td>\n                        <td id=\"T_97c28_row3_col2\" class=\"data row3 col2\" >1.0000</td>\n                        <td id=\"T_97c28_row3_col3\" class=\"data row3 col3\" >0.8571</td>\n                        <td id=\"T_97c28_row3_col4\" class=\"data row3 col4\" >0.9231</td>\n                        <td id=\"T_97c28_row3_col5\" class=\"data row3 col5\" >0.9193</td>\n                        <td id=\"T_97c28_row3_col6\" class=\"data row3 col6\" >0.9223</td>\n            </tr>\n            <tr>\n                        <th id=\"T_97c28_level0_row4\" class=\"row_heading level0 row4\" >4</th>\n                        <td id=\"T_97c28_row4_col0\" class=\"data row4 col0\" >0.9926</td>\n                        <td id=\"T_97c28_row4_col1\" class=\"data row4 col1\" >1.0000</td>\n                        <td id=\"T_97c28_row4_col2\" class=\"data row4 col2\" >0.8000</td>\n                        <td id=\"T_97c28_row4_col3\" class=\"data row4 col3\" >1.0000</td>\n                        <td id=\"T_97c28_row4_col4\" class=\"data row4 col4\" >0.8889</td>\n                        <td id=\"T_97c28_row4_col5\" class=\"data row4 col5\" >0.8851</td>\n                        <td id=\"T_97c28_row4_col6\" class=\"data row4 col6\" >0.8910</td>\n            </tr>\n            <tr>\n                        <th id=\"T_97c28_level0_row5\" class=\"row_heading level0 row5\" >5</th>\n                        <td id=\"T_97c28_row5_col0\" class=\"data row5 col0\" >1.0000</td>\n                        <td id=\"T_97c28_row5_col1\" class=\"data row5 col1\" >1.0000</td>\n                        <td id=\"T_97c28_row5_col2\" class=\"data row5 col2\" >1.0000</td>\n                        <td id=\"T_97c28_row5_col3\" class=\"data row5 col3\" >1.0000</td>\n                        <td id=\"T_97c28_row5_col4\" class=\"data row5 col4\" >1.0000</td>\n                        <td id=\"T_97c28_row5_col5\" class=\"data row5 col5\" >1.0000</td>\n                        <td id=\"T_97c28_row5_col6\" class=\"data row5 col6\" >1.0000</td>\n            </tr>\n            <tr>\n                        <th id=\"T_97c28_level0_row6\" class=\"row_heading level0 row6\" >6</th>\n                        <td id=\"T_97c28_row6_col0\" class=\"data row6 col0\" >1.0000</td>\n                        <td id=\"T_97c28_row6_col1\" class=\"data row6 col1\" >1.0000</td>\n                        <td id=\"T_97c28_row6_col2\" class=\"data row6 col2\" >1.0000</td>\n                        <td id=\"T_97c28_row6_col3\" class=\"data row6 col3\" >1.0000</td>\n                        <td id=\"T_97c28_row6_col4\" class=\"data row6 col4\" >1.0000</td>\n                        <td id=\"T_97c28_row6_col5\" class=\"data row6 col5\" >1.0000</td>\n                        <td id=\"T_97c28_row6_col6\" class=\"data row6 col6\" >1.0000</td>\n            </tr>\n            <tr>\n                        <th id=\"T_97c28_level0_row7\" class=\"row_heading level0 row7\" >7</th>\n                        <td id=\"T_97c28_row7_col0\" class=\"data row7 col0\" >1.0000</td>\n                        <td id=\"T_97c28_row7_col1\" class=\"data row7 col1\" >1.0000</td>\n                        <td id=\"T_97c28_row7_col2\" class=\"data row7 col2\" >1.0000</td>\n                        <td id=\"T_97c28_row7_col3\" class=\"data row7 col3\" >1.0000</td>\n                        <td id=\"T_97c28_row7_col4\" class=\"data row7 col4\" >1.0000</td>\n                        <td id=\"T_97c28_row7_col5\" class=\"data row7 col5\" >1.0000</td>\n                        <td id=\"T_97c28_row7_col6\" class=\"data row7 col6\" >1.0000</td>\n            </tr>\n            <tr>\n                        <th id=\"T_97c28_level0_row8\" class=\"row_heading level0 row8\" >8</th>\n                        <td id=\"T_97c28_row8_col0\" class=\"data row8 col0\" >1.0000</td>\n                        <td id=\"T_97c28_row8_col1\" class=\"data row8 col1\" >1.0000</td>\n                        <td id=\"T_97c28_row8_col2\" class=\"data row8 col2\" >1.0000</td>\n                        <td id=\"T_97c28_row8_col3\" class=\"data row8 col3\" >1.0000</td>\n                        <td id=\"T_97c28_row8_col4\" class=\"data row8 col4\" >1.0000</td>\n                        <td id=\"T_97c28_row8_col5\" class=\"data row8 col5\" >1.0000</td>\n                        <td id=\"T_97c28_row8_col6\" class=\"data row8 col6\" >1.0000</td>\n            </tr>\n            <tr>\n                        <th id=\"T_97c28_level0_row9\" class=\"row_heading level0 row9\" >9</th>\n                        <td id=\"T_97c28_row9_col0\" class=\"data row9 col0\" >1.0000</td>\n                        <td id=\"T_97c28_row9_col1\" class=\"data row9 col1\" >1.0000</td>\n                        <td id=\"T_97c28_row9_col2\" class=\"data row9 col2\" >1.0000</td>\n                        <td id=\"T_97c28_row9_col3\" class=\"data row9 col3\" >1.0000</td>\n                        <td id=\"T_97c28_row9_col4\" class=\"data row9 col4\" >1.0000</td>\n                        <td id=\"T_97c28_row9_col5\" class=\"data row9 col5\" >1.0000</td>\n                        <td id=\"T_97c28_row9_col6\" class=\"data row9 col6\" >1.0000</td>\n            </tr>\n            <tr>\n                        <th id=\"T_97c28_level0_row10\" class=\"row_heading level0 row10\" >Mean</th>\n                        <td id=\"T_97c28_row10_col0\" class=\"data row10 col0\" >0.9978</td>\n                        <td id=\"T_97c28_row10_col1\" class=\"data row10 col1\" >0.9995</td>\n                        <td id=\"T_97c28_row10_col2\" class=\"data row10 col2\" >0.9600</td>\n                        <td id=\"T_97c28_row10_col3\" class=\"data row10 col3\" >0.9857</td>\n                        <td id=\"T_97c28_row10_col4\" class=\"data row10 col4\" >0.9701</td>\n                        <td id=\"T_97c28_row10_col5\" class=\"data row10 col5\" >0.9690</td>\n                        <td id=\"T_97c28_row10_col6\" class=\"data row10 col6\" >0.9704</td>\n            </tr>\n            <tr>\n                        <th id=\"T_97c28_level0_row11\" class=\"row_heading level0 row11\" >SD</th>\n                        <td id=\"T_97c28_row11_col0\" class=\"data row11 col0\" >0.0034</td>\n                        <td id=\"T_97c28_row11_col1\" class=\"data row11 col1\" >0.0015</td>\n                        <td id=\"T_97c28_row11_col2\" class=\"data row11 col2\" >0.0800</td>\n                        <td id=\"T_97c28_row11_col3\" class=\"data row11 col3\" >0.0429</td>\n                        <td id=\"T_97c28_row11_col4\" class=\"data row11 col4\" >0.0465</td>\n                        <td id=\"T_97c28_row11_col5\" class=\"data row11 col5\" >0.0482</td>\n                        <td id=\"T_97c28_row11_col6\" class=\"data row11 col6\" >0.0459</td>\n            </tr>\n    </tbody></table>",
      "text/plain": "<pandas.io.formats.style.Styler at 0x7fcbe813de90>"
     },
     "metadata": {},
     "output_type": "display_data"
    }
   ],
   "source": [
    "# tune best model\n",
    "tuned_best_model = tune_model(best_model)"
   ]
  },
  {
   "cell_type": "code",
   "execution_count": 7,
   "metadata": {},
   "outputs": [
    {
     "data": {
      "image/png": "[encoded data removed]",
      "text/plain": "<Figure size 432x288 with 1 Axes>"
     },
     "metadata": {
      "needs_background": "light"
     },
     "output_type": "display_data"
    }
   ],
   "source": [
    "# AUC Plot\n",
    "plot_model(tuned_best_model, plot = 'auc')"
   ]
  },
  {
   "cell_type": "code",
   "execution_count": 8,
   "metadata": {},
   "outputs": [
    {
     "data": {
      "image/png": "[encoded data removed]",
      "text/plain": "<Figure size 800x500 with 1 Axes>"
     },
     "metadata": {
      "needs_background": "light"
     },
     "output_type": "display_data"
    }
   ],
   "source": [
    "# Feature Importance Plot\n",
    "plot_model(tuned_best_model , plot = 'feature')"
   ]
  },
  {
   "cell_type": "code",
   "execution_count": 9,
   "metadata": {},
   "outputs": [
    {
     "data": {
      "image/png": "[encoded data removed]",
      "text/plain": "<Figure size 432x288 with 1 Axes>"
     },
     "metadata": {
      "needs_background": "light"
     },
     "output_type": "display_data"
    }
   ],
   "source": [
    "# Confusion Matrix\n",
    "plot_model(tuned_best_model, plot = 'confusion_matrix')"
   ]
  },
  {
   "cell_type": "code",
   "execution_count": 5,
   "metadata": {},
   "outputs": [
    {
     "data": {
      "text/html": "        <script type=\"text/javascript\">\n        window.PlotlyConfig = {MathJaxConfig: 'local'};\n        if (window.MathJax) {MathJax.Hub.Config({SVG: {font: \"STIX-Web\"}});}\n        if (typeof require !== 'undefined') {\n        require.undef(\"plotly\");\n        requirejs.config({\n            paths: {\n                'plotly': ['https://cdn.plot.ly/plotly-2.6.3.min']\n            }\n        });\n        require(['plotly'], function(Plotly) {\n            window._Plotly = Plotly;\n        });\n        }\n        </script>\n        "
     },
     "metadata": {},
     "output_type": "display_data"
    },
    {
     "data": {
      "application/vnd.plotly.v1+json": {
       "config": {
        "linkText": "Export to plot.ly",
        "plotlyServerURL": "https://plot.ly",
        "showLink": false
       },
       "data": [
        {
         "hole": 0.5,
         "hoverinfo": "label+value+text",
         "labels": [
          0,
          1
         ],
         "marker": {
          "colors": [
           "rgb(62,173,146)",
           "rgb(25,122,86)"
          ],
          "line": {
           "color": "white",
           "width": 1.3
          }
         },
         "rotation": 90,
         "type": "pie",
         "values": [
          3398,
          459
         ]
        }
       ],
       "layout": {
        "paper_bgcolor": "rgb(255,255,255)",
        "plot_bgcolor": "rgb(255,255,255)",
        "template": {
         "data": {
          "bar": [
           {
            "error_x": {
             "color": "#2a3f5f"
            },
            "error_y": {
             "color": "#2a3f5f"
            },
            "marker": {
             "line": {
              "color": "#E5ECF6",
              "width": 0.5
             },
             "pattern": {
              "fillmode": "overlay",
              "size": 10,
              "solidity": 0.2
             }
            },
            "type": "bar"
           }
          ],
          "barpolar": [
           {
            "marker": {
             "line": {
              "color": "#E5ECF6",
              "width": 0.5
             },
             "pattern": {
              "fillmode": "overlay",
              "size": 10,
              "solidity": 0.2
             }
            },
            "type": "barpolar"
           }
          ],
          "carpet": [
           {
            "aaxis": {
             "endlinecolor": "#2a3f5f",
             "gridcolor": "white",
             "linecolor": "white",
             "minorgridcolor": "white",
             "startlinecolor": "#2a3f5f"
            },
            "baxis": {
             "endlinecolor": "#2a3f5f",
             "gridcolor": "white",
             "linecolor": "white",
             "minorgridcolor": "white",
             "startlinecolor": "#2a3f5f"
            },
            "type": "carpet"
           }
          ],
          "choropleth": [
           {
            "colorbar": {
             "outlinewidth": 0,
             "ticks": ""
            },
            "type": "choropleth"
           }
          ],
          "contour": [
           {
            "colorbar": {
             "outlinewidth": 0,
             "ticks": ""
            },
            "colorscale": [
             [
              0,
              "#0d0887"
             ],
             [
              0.1111111111111111,
              "#46039f"
             ],
             [
              0.2222222222222222,
              "#7201a8"
             ],
             [
              0.3333333333333333,
              "#9c179e"
             ],
             [
              0.4444444444444444,
              "#bd3786"
             ],
             [
              0.5555555555555556,
              "#d8576b"
             ],
             [
              0.6666666666666666,
              "#ed7953"
             ],
             [
              0.7777777777777778,
              "#fb9f3a"
             ],
             [
              0.8888888888888888,
              "#fdca26"
             ],
             [
              1,
              "#f0f921"
             ]
            ],
            "type": "contour"
           }
          ],
          "contourcarpet": [
           {
            "colorbar": {
             "outlinewidth": 0,
             "ticks": ""
            },
            "type": "contourcarpet"
           }
          ],
          "heatmap": [
           {
            "colorbar": {
             "outlinewidth": 0,
             "ticks": ""
            },
            "colorscale": [
             [
              0,
              "#0d0887"
             ],
             [
              0.1111111111111111,
              "#46039f"
             ],
             [
              0.2222222222222222,
              "#7201a8"
             ],
             [
              0.3333333333333333,
              "#9c179e"
             ],
             [
              0.4444444444444444,
              "#bd3786"
             ],
             [
              0.5555555555555556,
              "#d8576b"
             ],
             [
              0.6666666666666666,
              "#ed7953"
             ],
             [
              0.7777777777777778,
              "#fb9f3a"
             ],
             [
              0.8888888888888888,
              "#fdca26"
             ],
             [
              1,
              "#f0f921"
             ]
            ],
            "type": "heatmap"
           }
          ],
          "heatmapgl": [
           {
            "colorbar": {
             "outlinewidth": 0,
             "ticks": ""
            },
            "colorscale": [
             [
              0,
              "#0d0887"
             ],
             [
              0.1111111111111111,
              "#46039f"
             ],
             [
              0.2222222222222222,
              "#7201a8"
             ],
             [
              0.3333333333333333,
              "#9c179e"
             ],
             [
              0.4444444444444444,
              "#bd3786"
             ],
             [
              0.5555555555555556,
              "#d8576b"
             ],
             [
              0.6666666666666666,
              "#ed7953"
             ],
             [
              0.7777777777777778,
              "#fb9f3a"
             ],
             [
              0.8888888888888888,
              "#fdca26"
             ],
             [
              1,
              "#f0f921"
             ]
            ],
            "type": "heatmapgl"
           }
          ],
          "histogram": [
           {
            "marker": {
             "pattern": {
              "fillmode": "overlay",
              "size": 10,
              "solidity": 0.2
             }
            },
            "type": "histogram"
           }
          ],
          "histogram2d": [
           {
            "colorbar": {
             "outlinewidth": 0,
             "ticks": ""
            },
            "colorscale": [
             [
              0,
              "#0d0887"
             ],
             [
              0.1111111111111111,
              "#46039f"
             ],
             [
              0.2222222222222222,
              "#7201a8"
             ],
             [
              0.3333333333333333,
              "#9c179e"
             ],
             [
              0.4444444444444444,
              "#bd3786"
             ],
             [
              0.5555555555555556,
              "#d8576b"
             ],
             [
              0.6666666666666666,
              "#ed7953"
             ],
             [
              0.7777777777777778,
              "#fb9f3a"
             ],
             [
              0.8888888888888888,
              "#fdca26"
             ],
             [
              1,
              "#f0f921"
             ]
            ],
            "type": "histogram2d"
           }
          ],
          "histogram2dcontour": [
           {
            "colorbar": {
             "outlinewidth": 0,
             "ticks": ""
            },
            "colorscale": [
             [
              0,
              "#0d0887"
             ],
             [
              0.1111111111111111,
              "#46039f"
             ],
             [
              0.2222222222222222,
              "#7201a8"
             ],
             [
              0.3333333333333333,
              "#9c179e"
             ],
             [
              0.4444444444444444,
              "#bd3786"
             ],
             [
              0.5555555555555556,
              "#d8576b"
             ],
             [
              0.6666666666666666,
              "#ed7953"
             ],
             [
              0.7777777777777778,
              "#fb9f3a"
             ],
             [
              0.8888888888888888,
              "#fdca26"
             ],
             [
              1,
              "#f0f921"
             ]
            ],
            "type": "histogram2dcontour"
           }
          ],
          "mesh3d": [
           {
            "colorbar": {
             "outlinewidth": 0,
             "ticks": ""
            },
            "type": "mesh3d"
           }
          ],
          "parcoords": [
           {
            "line": {
             "colorbar": {
              "outlinewidth": 0,
              "ticks": ""
             }
            },
            "type": "parcoords"
           }
          ],
          "pie": [
           {
            "automargin": true,
            "type": "pie"
           }
          ],
          "scatter": [
           {
            "marker": {
             "colorbar": {
              "outlinewidth": 0,
              "ticks": ""
             }
            },
            "type": "scatter"
           }
          ],
          "scatter3d": [
           {
            "line": {
             "colorbar": {
              "outlinewidth": 0,
              "ticks": ""
             }
            },
            "marker": {
             "colorbar": {
              "outlinewidth": 0,
              "ticks": ""
             }
            },
            "type": "scatter3d"
           }
          ],
          "scattercarpet": [
           {
            "marker": {
             "colorbar": {
              "outlinewidth": 0,
              "ticks": ""
             }
            },
            "type": "scattercarpet"
           }
          ],
          "scattergeo": [
           {
            "marker": {
             "colorbar": {
              "outlinewidth": 0,
              "ticks": ""
             }
            },
            "type": "scattergeo"
           }
          ],
          "scattergl": [
           {
            "marker": {
             "colorbar": {
              "outlinewidth": 0,
              "ticks": ""
             }
            },
            "type": "scattergl"
           }
          ],
          "scattermapbox": [
           {
            "marker": {
             "colorbar": {
              "outlinewidth": 0,
              "ticks": ""
             }
            },
            "type": "scattermapbox"
           }
          ],
          "scatterpolar": [
           {
            "marker": {
             "colorbar": {
              "outlinewidth": 0,
              "ticks": ""
             }
            },
            "type": "scatterpolar"
           }
          ],
          "scatterpolargl": [
           {
            "marker": {
             "colorbar": {
              "outlinewidth": 0,
              "ticks": ""
             }
            },
            "type": "scatterpolargl"
           }
          ],
          "scatterternary": [
           {
            "marker": {
             "colorbar": {
              "outlinewidth": 0,
              "ticks": ""
             }
            },
            "type": "scatterternary"
           }
          ],
          "surface": [
           {
            "colorbar": {
             "outlinewidth": 0,
             "ticks": ""
            },
            "colorscale": [
             [
              0,
              "#0d0887"
             ],
             [
              0.1111111111111111,
              "#46039f"
             ],
             [
              0.2222222222222222,
              "#7201a8"
             ],
             [
              0.3333333333333333,
              "#9c179e"
             ],
             [
              0.4444444444444444,
              "#bd3786"
             ],
             [
              0.5555555555555556,
              "#d8576b"
             ],
             [
              0.6666666666666666,
              "#ed7953"
             ],
             [
              0.7777777777777778,
              "#fb9f3a"
             ],
             [
              0.8888888888888888,
              "#fdca26"
             ],
             [
              1,
              "#f0f921"
             ]
            ],
            "type": "surface"
           }
          ],
          "table": [
           {
            "cells": {
             "fill": {
              "color": "#EBF0F8"
             },
             "line": {
              "color": "white"
             }
            },
            "header": {
             "fill": {
              "color": "#C8D4E3"
             },
             "line": {
              "color": "white"
             }
            },
            "type": "table"
           }
          ]
         },
         "layout": {
          "annotationdefaults": {
           "arrowcolor": "#2a3f5f",
           "arrowhead": 0,
           "arrowwidth": 1
          },
          "autotypenumbers": "strict",
          "coloraxis": {
           "colorbar": {
            "outlinewidth": 0,
            "ticks": ""
           }
          },
          "colorscale": {
           "diverging": [
            [
             0,
             "#8e0152"
            ],
            [
             0.1,
             "#c51b7d"
            ],
            [
             0.2,
             "#de77ae"
            ],
            [
             0.3,
             "#f1b6da"
            ],
            [
             0.4,
             "#fde0ef"
            ],
            [
             0.5,
             "#f7f7f7"
            ],
            [
             0.6,
             "#e6f5d0"
            ],
            [
             0.7,
             "#b8e186"
            ],
            [
             0.8,
             "#7fbc41"
            ],
            [
             0.9,
             "#4d9221"
            ],
            [
             1,
             "#276419"
            ]
           ],
           "sequential": [
            [
             0,
             "#0d0887"
            ],
            [
             0.1111111111111111,
             "#46039f"
            ],
            [
             0.2222222222222222,
             "#7201a8"
            ],
            [
             0.3333333333333333,
             "#9c179e"
            ],
            [
             0.4444444444444444,
             "#bd3786"
            ],
            [
             0.5555555555555556,
             "#d8576b"
            ],
            [
             0.6666666666666666,
             "#ed7953"
            ],
            [
             0.7777777777777778,
             "#fb9f3a"
            ],
            [
             0.8888888888888888,
             "#fdca26"
            ],
            [
             1,
             "#f0f921"
            ]
           ],
           "sequentialminus": [
            [
             0,
             "#0d0887"
            ],
            [
             0.1111111111111111,
             "#46039f"
            ],
            [
             0.2222222222222222,
             "#7201a8"
            ],
            [
             0.3333333333333333,
             "#9c179e"
            ],
            [
             0.4444444444444444,
             "#bd3786"
            ],
            [
             0.5555555555555556,
             "#d8576b"
            ],
            [
             0.6666666666666666,
             "#ed7953"
            ],
            [
             0.7777777777777778,
             "#fb9f3a"
            ],
            [
             0.8888888888888888,
             "#fdca26"
            ],
            [
             1,
             "#f0f921"
            ]
           ]
          },
          "colorway": [
           "#636efa",
           "#EF553B",
           "#00cc96",
           "#ab63fa",
           "#FFA15A",
           "#19d3f3",
           "#FF6692",
           "#B6E880",
           "#FF97FF",
           "#FECB52"
          ],
          "font": {
           "color": "#2a3f5f"
          },
          "geo": {
           "bgcolor": "white",
           "lakecolor": "white",
           "landcolor": "#E5ECF6",
           "showlakes": true,
           "showland": true,
           "subunitcolor": "white"
          },
          "hoverlabel": {
           "align": "left"
          },
          "hovermode": "closest",
          "mapbox": {
           "style": "light"
          },
          "paper_bgcolor": "white",
          "plot_bgcolor": "#E5ECF6",
          "polar": {
           "angularaxis": {
            "gridcolor": "white",
            "linecolor": "white",
            "ticks": ""
           },
           "bgcolor": "#E5ECF6",
           "radialaxis": {
            "gridcolor": "white",
            "linecolor": "white",
            "ticks": ""
           }
          },
          "scene": {
           "xaxis": {
            "backgroundcolor": "#E5ECF6",
            "gridcolor": "white",
            "gridwidth": 2,
            "linecolor": "white",
            "showbackground": true,
            "ticks": "",
            "zerolinecolor": "white"
           },
           "yaxis": {
            "backgroundcolor": "#E5ECF6",
            "gridcolor": "white",
            "gridwidth": 2,
            "linecolor": "white",
            "showbackground": true,
            "ticks": "",
            "zerolinecolor": "white"
           },
           "zaxis": {
            "backgroundcolor": "#E5ECF6",
            "gridcolor": "white",
            "gridwidth": 2,
            "linecolor": "white",
            "showbackground": true,
            "ticks": "",
            "zerolinecolor": "white"
           }
          },
          "shapedefaults": {
           "line": {
            "color": "#2a3f5f"
           }
          },
          "ternary": {
           "aaxis": {
            "gridcolor": "white",
            "linecolor": "white",
            "ticks": ""
           },
           "baxis": {
            "gridcolor": "white",
            "linecolor": "white",
            "ticks": ""
           },
           "bgcolor": "#E5ECF6",
           "caxis": {
            "gridcolor": "white",
            "linecolor": "white",
            "ticks": ""
           }
          },
          "title": {
           "x": 0.05
          },
          "xaxis": {
           "automargin": true,
           "gridcolor": "white",
           "linecolor": "white",
           "ticks": "",
           "title": {
            "standoff": 15
           },
           "zerolinecolor": "white",
           "zerolinewidth": 2
          },
          "yaxis": {
           "automargin": true,
           "gridcolor": "white",
           "linecolor": "white",
           "ticks": "",
           "title": {
            "standoff": 15
           },
           "zerolinecolor": "white",
           "zerolinewidth": 2
          }
         }
        },
        "title": {
         "text": "Customer churn in training data"
        }
       }
      },
      "text/html": "<div>                            <div id=\"221b9b58-016d-45e0-a4f0-029298780302\" class=\"plotly-graph-div\" style=\"height:525px; width:100%;\"></div>            <script type=\"text/javascript\">                require([\"plotly\"], function(Plotly) {                    window.PLOTLYENV=window.PLOTLYENV || {};                                    if (document.getElementById(\"221b9b58-016d-45e0-a4f0-029298780302\")) {                    Plotly.newPlot(                        \"221b9b58-016d-45e0-a4f0-029298780302\",                        [{\"hole\":0.5,\"hoverinfo\":\"label+value+text\",\"labels\":[0,1],\"marker\":{\"colors\":[\"rgb(62,173,146)\",\"rgb(25,122,86)\"],\"line\":{\"color\":\"white\",\"width\":1.3}},\"rotation\":90,\"values\":[3398,459],\"type\":\"pie\"}],                        {\"paper_bgcolor\":\"rgb(255,255,255)\",\"plot_bgcolor\":\"rgb(255,255,255)\",\"template\":{\"data\":{\"barpolar\":[{\"marker\":{\"line\":{\"color\":\"#E5ECF6\",\"width\":0.5},\"pattern\":{\"fillmode\":\"overlay\",\"size\":10,\"solidity\":0.2}},\"type\":\"barpolar\"}],\"bar\":[{\"error_x\":{\"color\":\"#2a3f5f\"},\"error_y\":{\"color\":\"#2a3f5f\"},\"marker\":{\"line\":{\"color\":\"#E5ECF6\",\"width\":0.5},\"pattern\":{\"fillmode\":\"overlay\",\"size\":10,\"solidity\":0.2}},\"type\":\"bar\"}],\"carpet\":[{\"aaxis\":{\"endlinecolor\":\"#2a3f5f\",\"gridcolor\":\"white\",\"linecolor\":\"white\",\"minorgridcolor\":\"white\",\"startlinecolor\":\"#2a3f5f\"},\"baxis\":{\"endlinecolor\":\"#2a3f5f\",\"gridcolor\":\"white\",\"linecolor\":\"white\",\"minorgridcolor\":\"white\",\"startlinecolor\":\"#2a3f5f\"},\"type\":\"carpet\"}],\"choropleth\":[{\"colorbar\":{\"outlinewidth\":0,\"ticks\":\"\"},\"type\":\"choropleth\"}],\"contourcarpet\":[{\"colorbar\":{\"outlinewidth\":0,\"ticks\":\"\"},\"type\":\"contourcarpet\"}],\"contour\":[{\"colorbar\":{\"outlinewidth\":0,\"ticks\":\"\"},\"colorscale\":[[0.0,\"#0d0887\"],[0.1111111111111111,\"#46039f\"],[0.2222222222222222,\"#7201a8\"],[0.3333333333333333,\"#9c179e\"],[0.4444444444444444,\"#bd3786\"],[0.5555555555555556,\"#d8576b\"],[0.6666666666666666,\"#ed7953\"],[0.7777777777777778,\"#fb9f3a\"],[0.8888888888888888,\"#fdca26\"],[1.0,\"#f0f921\"]],\"type\":\"contour\"}],\"heatmapgl\":[{\"colorbar\":{\"outlinewidth\":0,\"ticks\":\"\"},\"colorscale\":[[0.0,\"#0d0887\"],[0.1111111111111111,\"#46039f\"],[0.2222222222222222,\"#7201a8\"],[0.3333333333333333,\"#9c179e\"],[0.4444444444444444,\"#bd3786\"],[0.5555555555555556,\"#d8576b\"],[0.6666666666666666,\"#ed7953\"],[0.7777777777777778,\"#fb9f3a\"],[0.8888888888888888,\"#fdca26\"],[1.0,\"#f0f921\"]],\"type\":\"heatmapgl\"}],\"heatmap\":[{\"colorbar\":{\"outlinewidth\":0,\"ticks\":\"\"},\"colorscale\":[[0.0,\"#0d0887\"],[0.1111111111111111,\"#46039f\"],[0.2222222222222222,\"#7201a8\"],[0.3333333333333333,\"#9c179e\"],[0.4444444444444444,\"#bd3786\"],[0.5555555555555556,\"#d8576b\"],[0.6666666666666666,\"#ed7953\"],[0.7777777777777778,\"#fb9f3a\"],[0.8888888888888888,\"#fdca26\"],[1.0,\"#f0f921\"]],\"type\":\"heatmap\"}],\"histogram2dcontour\":[{\"colorbar\":{\"outlinewidth\":0,\"ticks\":\"\"},\"colorscale\":[[0.0,\"#0d0887\"],[0.1111111111111111,\"#46039f\"],[0.2222222222222222,\"#7201a8\"],[0.3333333333333333,\"#9c179e\"],[0.4444444444444444,\"#bd3786\"],[0.5555555555555556,\"#d8576b\"],[0.6666666666666666,\"#ed7953\"],[0.7777777777777778,\"#fb9f3a\"],[0.8888888888888888,\"#fdca26\"],[1.0,\"#f0f921\"]],\"type\":\"histogram2dcontour\"}],\"histogram2d\":[{\"colorbar\":{\"outlinewidth\":0,\"ticks\":\"\"},\"colorscale\":[[0.0,\"#0d0887\"],[0.1111111111111111,\"#46039f\"],[0.2222222222222222,\"#7201a8\"],[0.3333333333333333,\"#9c179e\"],[0.4444444444444444,\"#bd3786\"],[0.5555555555555556,\"#d8576b\"],[0.6666666666666666,\"#ed7953\"],[0.7777777777777778,\"#fb9f3a\"],[0.8888888888888888,\"#fdca26\"],[1.0,\"#f0f921\"]],\"type\":\"histogram2d\"}],\"histogram\":[{\"marker\":{\"pattern\":{\"fillmode\":\"overlay\",\"size\":10,\"solidity\":0.2}},\"type\":\"histogram\"}],\"mesh3d\":[{\"colorbar\":{\"outlinewidth\":0,\"ticks\":\"\"},\"type\":\"mesh3d\"}],\"parcoords\":[{\"line\":{\"colorbar\":{\"outlinewidth\":0,\"ticks\":\"\"}},\"type\":\"parcoords\"}],\"pie\":[{\"automargin\":true,\"type\":\"pie\"}],\"scatter3d\":[{\"line\":{\"colorbar\":{\"outlinewidth\":0,\"ticks\":\"\"}},\"marker\":{\"colorbar\":{\"outlinewidth\":0,\"ticks\":\"\"}},\"type\":\"scatter3d\"}],\"scattercarpet\":[{\"marker\":{\"colorbar\":{\"outlinewidth\":0,\"ticks\":\"\"}},\"type\":\"scattercarpet\"}],\"scattergeo\":[{\"marker\":{\"colorbar\":{\"outlinewidth\":0,\"ticks\":\"\"}},\"type\":\"scattergeo\"}],\"scattergl\":[{\"marker\":{\"colorbar\":{\"outlinewidth\":0,\"ticks\":\"\"}},\"type\":\"scattergl\"}],\"scattermapbox\":[{\"marker\":{\"colorbar\":{\"outlinewidth\":0,\"ticks\":\"\"}},\"type\":\"scattermapbox\"}],\"scatterpolargl\":[{\"marker\":{\"colorbar\":{\"outlinewidth\":0,\"ticks\":\"\"}},\"type\":\"scatterpolargl\"}],\"scatterpolar\":[{\"marker\":{\"colorbar\":{\"outlinewidth\":0,\"ticks\":\"\"}},\"type\":\"scatterpolar\"}],\"scatter\":[{\"marker\":{\"colorbar\":{\"outlinewidth\":0,\"ticks\":\"\"}},\"type\":\"scatter\"}],\"scatterternary\":[{\"marker\":{\"colorbar\":{\"outlinewidth\":0,\"ticks\":\"\"}},\"type\":\"scatterternary\"}],\"surface\":[{\"colorbar\":{\"outlinewidth\":0,\"ticks\":\"\"},\"colorscale\":[[0.0,\"#0d0887\"],[0.1111111111111111,\"#46039f\"],[0.2222222222222222,\"#7201a8\"],[0.3333333333333333,\"#9c179e\"],[0.4444444444444444,\"#bd3786\"],[0.5555555555555556,\"#d8576b\"],[0.6666666666666666,\"#ed7953\"],[0.7777777777777778,\"#fb9f3a\"],[0.8888888888888888,\"#fdca26\"],[1.0,\"#f0f921\"]],\"type\":\"surface\"}],\"table\":[{\"cells\":{\"fill\":{\"color\":\"#EBF0F8\"},\"line\":{\"color\":\"white\"}},\"header\":{\"fill\":{\"color\":\"#C8D4E3\"},\"line\":{\"color\":\"white\"}},\"type\":\"table\"}]},\"layout\":{\"annotationdefaults\":{\"arrowcolor\":\"#2a3f5f\",\"arrowhead\":0,\"arrowwidth\":1},\"autotypenumbers\":\"strict\",\"coloraxis\":{\"colorbar\":{\"outlinewidth\":0,\"ticks\":\"\"}},\"colorscale\":{\"diverging\":[[0,\"#8e0152\"],[0.1,\"#c51b7d\"],[0.2,\"#de77ae\"],[0.3,\"#f1b6da\"],[0.4,\"#fde0ef\"],[0.5,\"#f7f7f7\"],[0.6,\"#e6f5d0\"],[0.7,\"#b8e186\"],[0.8,\"#7fbc41\"],[0.9,\"#4d9221\"],[1,\"#276419\"]],\"sequential\":[[0.0,\"#0d0887\"],[0.1111111111111111,\"#46039f\"],[0.2222222222222222,\"#7201a8\"],[0.3333333333333333,\"#9c179e\"],[0.4444444444444444,\"#bd3786\"],[0.5555555555555556,\"#d8576b\"],[0.6666666666666666,\"#ed7953\"],[0.7777777777777778,\"#fb9f3a\"],[0.8888888888888888,\"#fdca26\"],[1.0,\"#f0f921\"]],\"sequentialminus\":[[0.0,\"#0d0887\"],[0.1111111111111111,\"#46039f\"],[0.2222222222222222,\"#7201a8\"],[0.3333333333333333,\"#9c179e\"],[0.4444444444444444,\"#bd3786\"],[0.5555555555555556,\"#d8576b\"],[0.6666666666666666,\"#ed7953\"],[0.7777777777777778,\"#fb9f3a\"],[0.8888888888888888,\"#fdca26\"],[1.0,\"#f0f921\"]]},\"colorway\":[\"#636efa\",\"#EF553B\",\"#00cc96\",\"#ab63fa\",\"#FFA15A\",\"#19d3f3\",\"#FF6692\",\"#B6E880\",\"#FF97FF\",\"#FECB52\"],\"font\":{\"color\":\"#2a3f5f\"},\"geo\":{\"bgcolor\":\"white\",\"lakecolor\":\"white\",\"landcolor\":\"#E5ECF6\",\"showlakes\":true,\"showland\":true,\"subunitcolor\":\"white\"},\"hoverlabel\":{\"align\":\"left\"},\"hovermode\":\"closest\",\"mapbox\":{\"style\":\"light\"},\"paper_bgcolor\":\"white\",\"plot_bgcolor\":\"#E5ECF6\",\"polar\":{\"angularaxis\":{\"gridcolor\":\"white\",\"linecolor\":\"white\",\"ticks\":\"\"},\"bgcolor\":\"#E5ECF6\",\"radialaxis\":{\"gridcolor\":\"white\",\"linecolor\":\"white\",\"ticks\":\"\"}},\"scene\":{\"xaxis\":{\"backgroundcolor\":\"#E5ECF6\",\"gridcolor\":\"white\",\"gridwidth\":2,\"linecolor\":\"white\",\"showbackground\":true,\"ticks\":\"\",\"zerolinecolor\":\"white\"},\"yaxis\":{\"backgroundcolor\":\"#E5ECF6\",\"gridcolor\":\"white\",\"gridwidth\":2,\"linecolor\":\"white\",\"showbackground\":true,\"ticks\":\"\",\"zerolinecolor\":\"white\"},\"zaxis\":{\"backgroundcolor\":\"#E5ECF6\",\"gridcolor\":\"white\",\"gridwidth\":2,\"linecolor\":\"white\",\"showbackground\":true,\"ticks\":\"\",\"zerolinecolor\":\"white\"}},\"shapedefaults\":{\"line\":{\"color\":\"#2a3f5f\"}},\"ternary\":{\"aaxis\":{\"gridcolor\":\"white\",\"linecolor\":\"white\",\"ticks\":\"\"},\"baxis\":{\"gridcolor\":\"white\",\"linecolor\":\"white\",\"ticks\":\"\"},\"bgcolor\":\"#E5ECF6\",\"caxis\":{\"gridcolor\":\"white\",\"linecolor\":\"white\",\"ticks\":\"\"}},\"title\":{\"x\":0.05},\"xaxis\":{\"automargin\":true,\"gridcolor\":\"white\",\"linecolor\":\"white\",\"ticks\":\"\",\"title\":{\"standoff\":15},\"zerolinecolor\":\"white\",\"zerolinewidth\":2},\"yaxis\":{\"automargin\":true,\"gridcolor\":\"white\",\"linecolor\":\"white\",\"ticks\":\"\",\"title\":{\"standoff\":15},\"zerolinecolor\":\"white\",\"zerolinewidth\":2}}},\"title\":{\"text\":\"Customer churn in training data\"}},                        {\"responsive\": true}                    ).then(function(){\n                            \nvar gd = document.getElementById('221b9b58-016d-45e0-a4f0-029298780302');\nvar x = new MutationObserver(function (mutations, observer) {{\n        var display = window.getComputedStyle(gd).display;\n        if (!display || display === 'none') {{\n            console.log([gd, 'removed!']);\n            Plotly.purge(gd);\n            observer.disconnect();\n        }}\n}});\n\n// Listen for the removal of the full notebook cells\nvar notebookContainer = gd.closest('#notebook-container');\nif (notebookContainer) {{\n    x.observe(notebookContainer, {childList: true});\n}}\n\n// Listen for the clearing of the current output cell\nvar outputEl = gd.closest('.output');\nif (outputEl) {{\n    x.observe(outputEl, {childList: true});\n}}\n\n                        })                };                });            </script>        </div>"
     },
     "metadata": {},
     "output_type": "display_data"
    }
   ],
   "source": [
    "import plotly.offline as py # visualization\n",
    "py.init_notebook_mode(connected=True) \n",
    "import plotly.graph_objs as go # visualization\n",
    "train = df_churn\n",
    "trace = go.Pie(labels = train[\"churn\"].value_counts().keys().tolist(),\n",
    "               values = train[\"churn\"].value_counts().values.tolist(),\n",
    "               marker = dict(colors = [\"rgb(62,173,146)\",\"rgb(25,122,86)\"],\n",
    "                             line = dict(color = \"white\", width =  1.3)\n",
    "                            ),\n",
    "               rotation = 90,\n",
    "               hoverinfo = \"label+value+text\",\n",
    "               hole = .5\n",
    "              )\n",
    "layout = go.Layout(dict(title = \"Customer churn in training data\",\n",
    "                        plot_bgcolor = \"rgb(255,255,255)\",\n",
    "                        paper_bgcolor = \"rgb(255,255,255)\",\n",
    "                       )\n",
    "                  )\n",
    "data = [trace]\n",
    "fig = go.Figure(data = data, layout = layout)\n",
    "py.iplot(fig)"
   ]
  },
  {
   "cell_type": "code",
   "execution_count": null,
   "metadata": {},
   "outputs": [],
   "source": []
  }
 ],
 "metadata": {
  "kernelspec": {
   "display_name": "Python 3.7.7 64-bit ('tensorflow': conda)",
   "name": "python377jvsc74a57bd0930e46df0d1b93ecf8fe51f04b6e478dce688000f1283825e61bc5e483dc45d1"
  },
  "language_info": {
   "codemirror_mode": {
    "name": "ipython",
    "version": 3
   },
   "file_extension": ".py",
   "mimetype": "text/x-python",
   "name": "python",
   "nbconvert_exporter": "python",
   "pygments_lexer": "ipython3",
   "version": "3.7.7"
  },
  "orig_nbformat": 2
 },
 "nbformat": 4,
 "nbformat_minor": 2
}